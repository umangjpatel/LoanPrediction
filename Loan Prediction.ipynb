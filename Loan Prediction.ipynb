{
 "cells": [
  {
   "cell_type": "markdown",
   "metadata": {},
   "source": [
    "<h1>Loan Prediction Problem</h1>\n",
    "<h2>Problem Statement</h2>\n",
    "<ol>\n",
    "    <li><b>About Company</b><br>\n",
    "        Dream Housing Finance company deals in all home loans. They have presence across all urban, semi urban and \n",
    "        rural areas. Customer first apply for home loan after that company validates the customer eligibility for \n",
    "        loan.</li>\n",
    "    <li><b>Problem</b><br>\n",
    "        Company wants to automate the loan eligibility process (real time) based on customer detail provided while \n",
    "        filling online application form. These details are Gender, Marital Status, Education, Number of Dependents,\n",
    "        Income, Loan Amount, Credit History and others. To automate this process, they have given a problem to \n",
    "        identify the customers segments, those are eligible for loan amount so that they can specifically target these \n",
    "        customers. Here they have provided a partial data set.</li>\n",
    "</ol>"
   ]
  },
  {
   "cell_type": "markdown",
   "metadata": {},
   "source": [
    "<h2>Libraries used</h2>\n",
    "<ol>\n",
    "    <li>NumPy, for vectorized calculations</li>\n",
    "    <li>Matplotlib, for data visualization</li>\n",
    "    <li>Pandas, for reading and manipulating the dataset</li>\n",
    "    <li>Scikit-learn, for machine learning</li>\n",
    "    <li>Keras, for deep learning</li>\n",
    "    <li>Counter, for effecient dictionaries</li>\n",
    "</ol>"
   ]
  },
  {
   "cell_type": "code",
   "execution_count": 1,
   "metadata": {},
   "outputs": [],
   "source": [
    "import numpy as np\n",
    "import matplotlib.pyplot as plt\n",
    "import pandas as pd\n",
    "from sklearn.model_selection import train_test_split\n",
    "from collections import Counter"
   ]
  },
  {
   "cell_type": "markdown",
   "metadata": {},
   "source": [
    "<h2>Fetching the training and test datasets</h2>\n",
    "<p>Using Pandas, we easily obtain the dataset from their respective CSV files.</p>"
   ]
  },
  {
   "cell_type": "code",
   "execution_count": 2,
   "metadata": {},
   "outputs": [
    {
     "name": "stdout",
     "output_type": "stream",
     "text": [
      "    Loan_ID Gender Married Dependents     Education Self_Employed  \\\n",
      "0  LP001002   Male      No          0      Graduate            No   \n",
      "1  LP001003   Male     Yes          1      Graduate            No   \n",
      "2  LP001005   Male     Yes          0      Graduate           Yes   \n",
      "3  LP001006   Male     Yes          0  Not Graduate            No   \n",
      "4  LP001008   Male      No          0      Graduate            No   \n",
      "\n",
      "   ApplicantIncome  CoapplicantIncome  LoanAmount  Loan_Amount_Term  \\\n",
      "0             5849                0.0         NaN             360.0   \n",
      "1             4583             1508.0       128.0             360.0   \n",
      "2             3000                0.0        66.0             360.0   \n",
      "3             2583             2358.0       120.0             360.0   \n",
      "4             6000                0.0       141.0             360.0   \n",
      "\n",
      "   Credit_History Property_Area Loan_Status  \n",
      "0             1.0         Urban           Y  \n",
      "1             1.0         Rural           N  \n",
      "2             1.0         Urban           Y  \n",
      "3             1.0         Urban           Y  \n",
      "4             1.0         Urban           Y  \n",
      "**************************************************\n",
      "    Loan_ID Gender Married Dependents     Education Self_Employed  \\\n",
      "0  LP001015   Male     Yes          0      Graduate            No   \n",
      "1  LP001022   Male     Yes          1      Graduate            No   \n",
      "2  LP001031   Male     Yes          2      Graduate            No   \n",
      "3  LP001035   Male     Yes          2      Graduate            No   \n",
      "4  LP001051   Male      No          0  Not Graduate            No   \n",
      "\n",
      "   ApplicantIncome  CoapplicantIncome  LoanAmount  Loan_Amount_Term  \\\n",
      "0             5720                  0       110.0             360.0   \n",
      "1             3076               1500       126.0             360.0   \n",
      "2             5000               1800       208.0             360.0   \n",
      "3             2340               2546       100.0             360.0   \n",
      "4             3276                  0        78.0             360.0   \n",
      "\n",
      "   Credit_History Property_Area  \n",
      "0             1.0         Urban  \n",
      "1             1.0         Urban  \n",
      "2             1.0         Urban  \n",
      "3             NaN         Urban  \n",
      "4             1.0         Urban  \n"
     ]
    }
   ],
   "source": [
    "dataset = pd.read_csv('train.csv')\n",
    "print(dataset.head())\n",
    "print(\"*\" * 50)\n",
    "test_dataset = pd.read_csv('test.csv')\n",
    "print(test_dataset.head())"
   ]
  },
  {
   "cell_type": "markdown",
   "metadata": {},
   "source": [
    "<h2>Contents of the dataset</h2>\n",
    "<p>After fetching the dataset, we see the following information :-</p>\n",
    "<ol>\n",
    "    <li><b>Loan_ID</b> : Unique Loan ID</li>\n",
    "    <li><b>Gender</b> :  Male/ Female</li>\n",
    "    <li><b>Married</b> : Applicant married (Y/N)</li>\n",
    "    <li><b>Dependents</b> : Number of dependents</li>\n",
    "    <li><b>Education</b> : Applicant Education (Graduate/ Under Graduate)</li>\n",
    "    <li><b>Self_Employed</b> : Self employed (Y/N)</li>\n",
    "    <li><b>ApplicantIncome</b> : Applicant income</li>\n",
    "    <li><b>CoapplicantIncome</b> : Coapplicant income</li>\n",
    "    <li><b>LoanAmount</b> : Loan amount in thousands</li>\n",
    "    <li><b>Loan_Amount_Term</b> : Term of loan in months</li>\n",
    "    <li><b>Credit_History</b> : credit history meets guidelines</li>\n",
    "    <li><b>Property_Area</b> : Urban/ Semi Urban/ Rural</li>\n",
    "    <li><b>Loan_Status</b> : Loan approved (Y/N)</li>\n",
    "</ol>"
   ]
  },
  {
   "cell_type": "markdown",
   "metadata": {},
   "source": [
    "<h2>EDA Checklist</h2>\n",
    "<ol>\n",
    "    <li>What question(s) are you trying to solve (or prove wrong)?</li>\n",
    "    <li>What kind of data do you have and how do you treat different types?</li>\n",
    "    <li>What’s missing from the data and how do you deal with it?</li>\n",
    "    <li>Where are the outliers and why should you care about them?</li>\n",
    "    <li>How can you add, change or remove features to get more out of your data?</li>\n",
    "</ol>"
   ]
  },
  {
   "cell_type": "markdown",
   "metadata": {},
   "source": [
    "<h2>Getting information and cleaning each column</h2>\n",
    "<p>Let's explore each column of the <b>training dataset</b> and perform following operations :-</p>\n",
    "<ol>\n",
    "    <li>Count the number of entries</li>\n",
    "    <li>Count unique values in the column</li>\n",
    "    <li>Show its description</li>\n",
    "    <li>Check whether it contains NaN values or not</li>\n",
    "    <li>If present, replace those values with :\n",
    "        <ul>\n",
    "            <li><i>Categorical column</i> : Most frequently occuring value in the column</li>\n",
    "            <li><i>Numerical column</i> : Mean of all the values in the column</li>\n",
    "        </ul>\n",
    "    </li>\n",
    "</ol>"
   ]
  },
  {
   "cell_type": "markdown",
   "metadata": {},
   "source": [
    "<h2>Gender information</h2>"
   ]
  },
  {
   "cell_type": "code",
   "execution_count": 3,
   "metadata": {},
   "outputs": [
    {
     "name": "stdout",
     "output_type": "stream",
     "text": [
      "Gender information of applicants :- \n",
      "Entries :  601\n",
      "Male      489\n",
      "Female    112\n",
      "Name: Gender, dtype: int64\n",
      "\n",
      "count      601\n",
      "unique       2\n",
      "top       Male\n",
      "freq       489\n",
      "Name: Gender, dtype: object\n",
      "\n",
      "Has NaNs :  True\n",
      "Filling NaNs...\n",
      "Has NaNs :  False\n"
     ]
    }
   ],
   "source": [
    "print(\"Gender information of applicants :- \")\n",
    "print(\"Entries : \", dataset['Gender'].count())\n",
    "print(dataset['Gender'].value_counts(), end='\\n\\n')\n",
    "print(dataset['Gender'].describe(), end='\\n\\n')\n",
    "print(\"Has NaNs : \", dataset['Gender'].hasnans)\n",
    "print(\"Filling NaNs...\")\n",
    "dataset['Gender'].fillna('Male', inplace=True)\n",
    "print(\"Has NaNs : \", dataset['Gender'].hasnans)"
   ]
  },
  {
   "cell_type": "markdown",
   "metadata": {},
   "source": [
    "<h2>Marriage information</h2>"
   ]
  },
  {
   "cell_type": "code",
   "execution_count": 4,
   "metadata": {},
   "outputs": [
    {
     "name": "stdout",
     "output_type": "stream",
     "text": [
      "Marriage information of applicants :-\n",
      "Entries :  611\n",
      "Yes    398\n",
      "No     213\n",
      "Name: Married, dtype: int64\n",
      "\n",
      "count     611\n",
      "unique      2\n",
      "top       Yes\n",
      "freq      398\n",
      "Name: Married, dtype: object\n",
      "\n",
      "Has NaNs :  True\n",
      "Filling NaNs...\n",
      "Has NaNs :  False\n"
     ]
    }
   ],
   "source": [
    "print(\"Marriage information of applicants :-\")\n",
    "print(\"Entries : \", dataset['Married'].count())\n",
    "print(dataset['Married'].value_counts(), end='\\n\\n')\n",
    "print(dataset['Married'].describe(), end='\\n\\n')\n",
    "print(\"Has NaNs : \", dataset['Married'].hasnans)\n",
    "print(\"Filling NaNs...\")\n",
    "dataset['Married'].fillna('Yes', inplace=True)\n",
    "print(\"Has NaNs : \", dataset['Married'].hasnans)"
   ]
  },
  {
   "cell_type": "markdown",
   "metadata": {},
   "source": [
    "<h2>Dependents information</h2>"
   ]
  },
  {
   "cell_type": "code",
   "execution_count": 5,
   "metadata": {},
   "outputs": [
    {
     "name": "stdout",
     "output_type": "stream",
     "text": [
      "Dependents information :-\n",
      "Entries :  599\n",
      "0     345\n",
      "1     102\n",
      "2     101\n",
      "3+     51\n",
      "Name: Dependents, dtype: int64\n",
      "\n",
      "count     599\n",
      "unique      4\n",
      "top         0\n",
      "freq      345\n",
      "Name: Dependents, dtype: object\n",
      "\n",
      "Has NaNs :  True\n",
      "Filling NaNs...\n",
      "Has NaNs :  False\n"
     ]
    }
   ],
   "source": [
    "print(\"Dependents information :-\")\n",
    "print(\"Entries : \", dataset['Dependents'].count())\n",
    "print(dataset['Dependents'].value_counts(), end='\\n\\n')\n",
    "print(dataset['Dependents'].describe(), end='\\n\\n')\n",
    "print(\"Has NaNs : \", dataset['Dependents'].hasnans)\n",
    "print(\"Filling NaNs...\")\n",
    "dataset['Dependents'].fillna('0', inplace=True)\n",
    "print(\"Has NaNs : \", dataset['Dependents'].hasnans)"
   ]
  },
  {
   "cell_type": "markdown",
   "metadata": {},
   "source": [
    "<h2>Education information</h2>"
   ]
  },
  {
   "cell_type": "code",
   "execution_count": 6,
   "metadata": {},
   "outputs": [
    {
     "name": "stdout",
     "output_type": "stream",
     "text": [
      "Education information :-\n",
      "Entries :  614\n",
      "Graduate        480\n",
      "Not Graduate    134\n",
      "Name: Education, dtype: int64\n",
      "\n",
      "count          614\n",
      "unique           2\n",
      "top       Graduate\n",
      "freq           480\n",
      "Name: Education, dtype: object\n",
      "\n",
      "Has NaNs :  False\n",
      "Filling NaNs...\n",
      "Has NaNs :  False\n"
     ]
    }
   ],
   "source": [
    "print(\"Education information :-\")\n",
    "print(\"Entries : \", dataset['Education'].count())\n",
    "print(dataset['Education'].value_counts(), end='\\n\\n')\n",
    "print(dataset['Education'].describe(), end='\\n\\n')\n",
    "print(\"Has NaNs : \", dataset['Education'].hasnans)\n",
    "print(\"Filling NaNs...\")\n",
    "dataset['Education'].fillna('Graduate', inplace=True)\n",
    "print(\"Has NaNs : \", dataset['Education'].hasnans)"
   ]
  },
  {
   "cell_type": "markdown",
   "metadata": {},
   "source": [
    "<h2>Self-employment information</h2>"
   ]
  },
  {
   "cell_type": "code",
   "execution_count": 7,
   "metadata": {},
   "outputs": [
    {
     "name": "stdout",
     "output_type": "stream",
     "text": [
      "Self-employed information :-\n",
      "Entries :  582\n",
      "No     500\n",
      "Yes     82\n",
      "Name: Self_Employed, dtype: int64\n",
      "\n",
      "count     582\n",
      "unique      2\n",
      "top        No\n",
      "freq      500\n",
      "Name: Self_Employed, dtype: object\n",
      "\n",
      "Has NaNs :  True\n",
      "Filling NaNs...\n",
      "Has NaNs :  False\n"
     ]
    }
   ],
   "source": [
    "print(\"Self-employed information :-\")\n",
    "print(\"Entries : \", dataset['Self_Employed'].count())\n",
    "print(dataset['Self_Employed'].value_counts(), end='\\n\\n')\n",
    "print(dataset['Self_Employed'].describe(), end='\\n\\n')\n",
    "print(\"Has NaNs : \", dataset['Self_Employed'].hasnans)\n",
    "print(\"Filling NaNs...\")\n",
    "dataset['Self_Employed'].fillna('No', inplace=True)\n",
    "print(\"Has NaNs : \", dataset['Self_Employed'].hasnans)"
   ]
  },
  {
   "cell_type": "markdown",
   "metadata": {},
   "source": [
    "<h2>Applicant Income information</h2>"
   ]
  },
  {
   "cell_type": "code",
   "execution_count": 8,
   "metadata": {},
   "outputs": [
    {
     "name": "stdout",
     "output_type": "stream",
     "text": [
      "Applicant Income information :-\n",
      "Entries :  614\n",
      "count      614.000000\n",
      "mean      5403.459283\n",
      "std       6109.041673\n",
      "min        150.000000\n",
      "25%       2877.500000\n",
      "50%       3812.500000\n",
      "75%       5795.000000\n",
      "max      81000.000000\n",
      "Name: ApplicantIncome, dtype: float64\n",
      "\n",
      "Has NaNs :  False\n"
     ]
    }
   ],
   "source": [
    "print(\"Applicant Income information :-\")\n",
    "print(\"Entries : \", dataset['ApplicantIncome'].count())\n",
    "print(dataset['ApplicantIncome'].describe(), end='\\n\\n')\n",
    "print(\"Has NaNs : \", dataset['ApplicantIncome'].hasnans)"
   ]
  },
  {
   "cell_type": "markdown",
   "metadata": {},
   "source": [
    "<h2>Coapplicant information</h2>"
   ]
  },
  {
   "cell_type": "code",
   "execution_count": 9,
   "metadata": {},
   "outputs": [
    {
     "name": "stdout",
     "output_type": "stream",
     "text": [
      "Coapplicant Income information :-\n",
      "Entries :  614\n",
      "count      614.000000\n",
      "mean      1621.245798\n",
      "std       2926.248369\n",
      "min          0.000000\n",
      "25%          0.000000\n",
      "50%       1188.500000\n",
      "75%       2297.250000\n",
      "max      41667.000000\n",
      "Name: CoapplicantIncome, dtype: float64\n",
      "\n",
      "Has NaNs :  False\n"
     ]
    }
   ],
   "source": [
    "print(\"Coapplicant Income information :-\")\n",
    "print(\"Entries : \", dataset['CoapplicantIncome'].count())\n",
    "print(dataset['CoapplicantIncome'].describe(), end='\\n\\n')\n",
    "print(\"Has NaNs : \", dataset['CoapplicantIncome'].hasnans)"
   ]
  },
  {
   "cell_type": "markdown",
   "metadata": {},
   "source": [
    "<h2>Loan amount information</h2>"
   ]
  },
  {
   "cell_type": "code",
   "execution_count": 10,
   "metadata": {},
   "outputs": [
    {
     "name": "stdout",
     "output_type": "stream",
     "text": [
      "Loan Amount information :-\n",
      "Entries :  592\n",
      "count    592.000000\n",
      "mean     146.412162\n",
      "std       85.587325\n",
      "min        9.000000\n",
      "25%      100.000000\n",
      "50%      128.000000\n",
      "75%      168.000000\n",
      "max      700.000000\n",
      "Name: LoanAmount, dtype: float64\n",
      "\n",
      "Has NaNs :  True\n",
      "Filling NaNs...\n",
      "Has NaNs :  False\n"
     ]
    }
   ],
   "source": [
    "print(\"Loan Amount information :-\")\n",
    "print(\"Entries : \", dataset['LoanAmount'].count())\n",
    "print(dataset['LoanAmount'].describe(), end='\\n\\n')\n",
    "print(\"Has NaNs : \", dataset['LoanAmount'].hasnans)\n",
    "print(\"Filling NaNs...\")\n",
    "dataset['LoanAmount'].fillna(dataset['LoanAmount'].mean(), inplace=True)\n",
    "print(\"Has NaNs : \", dataset['LoanAmount'].hasnans)"
   ]
  },
  {
   "cell_type": "markdown",
   "metadata": {},
   "source": [
    "<h2>Loan term information</h2>"
   ]
  },
  {
   "cell_type": "code",
   "execution_count": 11,
   "metadata": {},
   "outputs": [
    {
     "name": "stdout",
     "output_type": "stream",
     "text": [
      "Loan Amount Term information :-\n",
      "Entries :  600\n",
      "count    600.00000\n",
      "mean     342.00000\n",
      "std       65.12041\n",
      "min       12.00000\n",
      "25%      360.00000\n",
      "50%      360.00000\n",
      "75%      360.00000\n",
      "max      480.00000\n",
      "Name: Loan_Amount_Term, dtype: float64\n",
      "\n",
      "Has NaNs :  True\n",
      "Filling NaNs...\n",
      "Has NaNs :  False\n"
     ]
    }
   ],
   "source": [
    "print(\"Loan Amount Term information :-\")\n",
    "print(\"Entries : \", dataset['Loan_Amount_Term'].count())\n",
    "print(dataset['Loan_Amount_Term'].describe(), end='\\n\\n')\n",
    "print(\"Has NaNs : \", dataset['Loan_Amount_Term'].hasnans)\n",
    "print(\"Filling NaNs...\")\n",
    "dataset['Loan_Amount_Term'].fillna(dataset['Loan_Amount_Term'].mean(), inplace=True)\n",
    "print(\"Has NaNs : \", dataset['Loan_Amount_Term'].hasnans)"
   ]
  },
  {
   "cell_type": "markdown",
   "metadata": {},
   "source": [
    "<h2>Credit History information</h2>"
   ]
  },
  {
   "cell_type": "code",
   "execution_count": 12,
   "metadata": {},
   "outputs": [
    {
     "name": "stdout",
     "output_type": "stream",
     "text": [
      "Credit History information :-\n",
      "Entries :  564\n",
      "1.0    475\n",
      "0.0     89\n",
      "Name: Credit_History, dtype: int64\n",
      "\n",
      "Has NaNs :  True\n",
      "Filling NaNs...\n",
      "Has NaNs :  False\n"
     ]
    }
   ],
   "source": [
    "print(\"Credit History information :-\")\n",
    "print(\"Entries : \", dataset['Credit_History'].count())\n",
    "print(dataset['Credit_History'].value_counts(), end='\\n\\n')\n",
    "print(\"Has NaNs : \", dataset['Credit_History'].hasnans)\n",
    "print(\"Filling NaNs...\")\n",
    "dataset['Credit_History'].fillna(1.0, inplace=True)\n",
    "print(\"Has NaNs : \", dataset['Credit_History'].hasnans)"
   ]
  },
  {
   "cell_type": "markdown",
   "metadata": {},
   "source": [
    "<h2>Property type information</h2>"
   ]
  },
  {
   "cell_type": "code",
   "execution_count": 13,
   "metadata": {},
   "outputs": [
    {
     "name": "stdout",
     "output_type": "stream",
     "text": [
      "Property area information :-\n",
      "Entries :  614\n",
      "Semiurban    233\n",
      "Urban        202\n",
      "Rural        179\n",
      "Name: Property_Area, dtype: int64\n",
      "\n",
      "count           614\n",
      "unique            3\n",
      "top       Semiurban\n",
      "freq            233\n",
      "Name: Property_Area, dtype: object\n",
      "\n",
      "Has NaNs :  False\n"
     ]
    }
   ],
   "source": [
    "print(\"Property area information :-\")\n",
    "print(\"Entries : \", dataset['Property_Area'].count())\n",
    "print(dataset['Property_Area'].value_counts(), end='\\n\\n')\n",
    "print(dataset['Property_Area'].describe(), end='\\n\\n')\n",
    "print(\"Has NaNs : \", dataset['Property_Area'].hasnans)"
   ]
  },
  {
   "cell_type": "markdown",
   "metadata": {},
   "source": [
    "<h2>Loan status information</h2>"
   ]
  },
  {
   "cell_type": "code",
   "execution_count": 14,
   "metadata": {},
   "outputs": [
    {
     "name": "stdout",
     "output_type": "stream",
     "text": [
      "Loan status information :-\n",
      "Entries :  614\n",
      "Y    422\n",
      "N    192\n",
      "Name: Loan_Status, dtype: int64\n",
      "\n",
      "count     614\n",
      "unique      2\n",
      "top         Y\n",
      "freq      422\n",
      "Name: Loan_Status, dtype: object\n",
      "\n",
      "Has NaNs :  False\n"
     ]
    }
   ],
   "source": [
    "print(\"Loan status information :-\")\n",
    "print(\"Entries : \", dataset['Loan_Status'].count())\n",
    "print(dataset['Loan_Status'].value_counts(), end='\\n\\n')\n",
    "print(dataset['Loan_Status'].describe(), end='\\n\\n')\n",
    "print(\"Has NaNs : \", dataset['Loan_Status'].hasnans)"
   ]
  },
  {
   "cell_type": "markdown",
   "metadata": {},
   "source": [
    "<h2>Re-checking the training dataset</h2>\n",
    "<p>After performing the cleaning operation for each column in the <b>training dataset</b>, let's get info of this dataset and check if there is any other operation required to do further</p>"
   ]
  },
  {
   "cell_type": "code",
   "execution_count": 15,
   "metadata": {},
   "outputs": [
    {
     "name": "stdout",
     "output_type": "stream",
     "text": [
      "<class 'pandas.core.frame.DataFrame'>\n",
      "RangeIndex: 614 entries, 0 to 613\n",
      "Data columns (total 13 columns):\n",
      "Loan_ID              614 non-null object\n",
      "Gender               614 non-null object\n",
      "Married              614 non-null object\n",
      "Dependents           614 non-null object\n",
      "Education            614 non-null object\n",
      "Self_Employed        614 non-null object\n",
      "ApplicantIncome      614 non-null int64\n",
      "CoapplicantIncome    614 non-null float64\n",
      "LoanAmount           614 non-null float64\n",
      "Loan_Amount_Term     614 non-null float64\n",
      "Credit_History       614 non-null float64\n",
      "Property_Area        614 non-null object\n",
      "Loan_Status          614 non-null object\n",
      "dtypes: float64(4), int64(1), object(8)\n",
      "memory usage: 62.4+ KB\n",
      "None\n"
     ]
    }
   ],
   "source": [
    "print(dataset.info())"
   ]
  },
  {
   "cell_type": "markdown",
   "metadata": {},
   "source": [
    "<h2>Visualizing each column of the dataset</h2>\n",
    "<p>Using Matplotlib, we are going to plot charts of following type :-</p>\n",
    "<ul>\n",
    "    <li><i>Categorical column</i> : Bar chart</li>\n",
    "    <li><i>Numerical column</i> : Histogram</li>\n",
    "</ul>"
   ]
  },
  {
   "cell_type": "markdown",
   "metadata": {},
   "source": [
    "<h2>Visualizing Gender information</h2>"
   ]
  },
  {
   "cell_type": "code",
   "execution_count": 16,
   "metadata": {},
   "outputs": [
    {
     "data": {
      "image/png": "[encoded data removed]",
      "text/plain": [
       "<Figure size 432x288 with 1 Axes>"
      ]
     },
     "metadata": {
      "needs_background": "light"
     },
     "output_type": "display_data"
    }
   ],
   "source": [
    "gender_data = Counter(dataset['Gender'])\n",
    "plt.bar(gender_data.keys(), gender_data.values())\n",
    "plt.title('Gender chart')\n",
    "plt.ylabel('# of applicants')\n",
    "plt.show()"
   ]
  },
  {
   "cell_type": "markdown",
   "metadata": {},
   "source": [
    "<h2>Visualizing Marriage information</h2>"
   ]
  },
  {
   "cell_type": "code",
   "execution_count": 17,
   "metadata": {},
   "outputs": [
    {
     "data": {
      "image/png": "[encoded data removed]",
      "text/plain": [
       "<Figure size 432x288 with 1 Axes>"
      ]
     },
     "metadata": {
      "needs_background": "light"
     },
     "output_type": "display_data"
    }
   ],
   "source": [
    "marriage_data = Counter(dataset['Married'])\n",
    "plt.bar(marriage_data.keys(), marriage_data.values())\n",
    "plt.title('Marriage chart')\n",
    "plt.ylabel('# of applicants')\n",
    "plt.show()"
   ]
  },
  {
   "cell_type": "markdown",
   "metadata": {},
   "source": [
    "<h2>Visualizing Dependents information</h2>"
   ]
  },
  {
   "cell_type": "code",
   "execution_count": 18,
   "metadata": {},
   "outputs": [
    {
     "data": {
      "image/png": "[encoded data removed]",
      "text/plain": [
       "<Figure size 432x288 with 1 Axes>"
      ]
     },
     "metadata": {
      "needs_background": "light"
     },
     "output_type": "display_data"
    }
   ],
   "source": [
    "dependents_data = Counter(dataset['Dependents'])\n",
    "plt.bar(dependents_data.keys(), dependents_data.values())\n",
    "plt.title('Dependents chart')\n",
    "plt.ylabel('# of applicants')\n",
    "plt.show()"
   ]
  },
  {
   "cell_type": "markdown",
   "metadata": {},
   "source": [
    "<h2>Visualizing Education information</h2>"
   ]
  },
  {
   "cell_type": "code",
   "execution_count": 19,
   "metadata": {},
   "outputs": [
    {
     "data": {
      "image/png": "[encoded data removed]",
      "text/plain": [
       "<Figure size 432x288 with 1 Axes>"
      ]
     },
     "metadata": {
      "needs_background": "light"
     },
     "output_type": "display_data"
    }
   ],
   "source": [
    "education_data = Counter(dataset['Education'])\n",
    "plt.bar(education_data.keys(), education_data.values())\n",
    "plt.title('Education chart')\n",
    "plt.ylabel('# of applicants')\n",
    "plt.show()"
   ]
  },
  {
   "cell_type": "markdown",
   "metadata": {},
   "source": [
    "<h2>Visualizing Self-employment information</h2>"
   ]
  },
  {
   "cell_type": "code",
   "execution_count": 20,
   "metadata": {},
   "outputs": [
    {
     "data": {
      "image/png": "[encoded data removed]",
      "text/plain": [
       "<Figure size 432x288 with 1 Axes>"
      ]
     },
     "metadata": {
      "needs_background": "light"
     },
     "output_type": "display_data"
    }
   ],
   "source": [
    "self_emp_data = Counter(dataset['Self_Employed'])\n",
    "plt.bar(self_emp_data.keys(), self_emp_data.values())\n",
    "plt.title('Self-employed chart')\n",
    "plt.ylabel('# of applicants')\n",
    "plt.show()"
   ]
  },
  {
   "cell_type": "markdown",
   "metadata": {},
   "source": [
    "<h2>Visualizing Applicant income information</h2>"
   ]
  },
  {
   "cell_type": "code",
   "execution_count": 21,
   "metadata": {},
   "outputs": [
    {
     "data": {
      "image/png": "[encoded data removed]",
      "text/plain": [
       "<Figure size 432x288 with 1 Axes>"
      ]
     },
     "metadata": {
      "needs_background": "light"
     },
     "output_type": "display_data"
    }
   ],
   "source": [
    "plt.hist(dataset['ApplicantIncome'])\n",
    "plt.title('Applicant Income Char t')\n",
    "plt.xlabel('Applicant Income')\n",
    "plt.ylabel('# of applicants')\n",
    "plt.show()"
   ]
  },
  {
   "cell_type": "markdown",
   "metadata": {},
   "source": [
    "<h2>Visualizing Coapplicant income information</h2>"
   ]
  },
  {
   "cell_type": "code",
   "execution_count": 22,
   "metadata": {},
   "outputs": [
    {
     "data": {
      "image/png": "[encoded data removed]",
      "text/plain": [
       "<Figure size 432x288 with 1 Axes>"
      ]
     },
     "metadata": {
      "needs_background": "light"
     },
     "output_type": "display_data"
    }
   ],
   "source": [
    "plt.hist(dataset['CoapplicantIncome'])\n",
    "plt.title('Coapplicant Income Chart')\n",
    "plt.xlabel('Coapplicant Income')\n",
    "plt.ylabel('# of applicants')\n",
    "plt.show()"
   ]
  },
  {
   "cell_type": "markdown",
   "metadata": {},
   "source": [
    "<h2>Visualizing Loan amount information</h2>"
   ]
  },
  {
   "cell_type": "code",
   "execution_count": 23,
   "metadata": {},
   "outputs": [
    {
     "data": {
      "image/png": "[encoded data removed]",
      "text/plain": [
       "<Figure size 432x288 with 1 Axes>"
      ]
     },
     "metadata": {
      "needs_background": "light"
     },
     "output_type": "display_data"
    }
   ],
   "source": [
    "plt.hist(dataset['LoanAmount'])\n",
    "plt.title('Loan Amount Chart')\n",
    "plt.xlabel('Loan Amount')\n",
    "plt.ylabel('# of applicants')\n",
    "plt.show()"
   ]
  },
  {
   "cell_type": "markdown",
   "metadata": {},
   "source": [
    "<h2>Visualizing Loan term information</h2>"
   ]
  },
  {
   "cell_type": "code",
   "execution_count": 24,
   "metadata": {},
   "outputs": [
    {
     "data": {
      "image/png": "[encoded data removed]",
      "text/plain": [
       "<Figure size 432x288 with 1 Axes>"
      ]
     },
     "metadata": {
      "needs_background": "light"
     },
     "output_type": "display_data"
    }
   ],
   "source": [
    "plt.hist(dataset['Loan_Amount_Term'])\n",
    "plt.title('Loan Amount Term Chart')\n",
    "plt.xlabel('Loan Amount Term in days')\n",
    "plt.ylabel('# of applicants')\n",
    "plt.show()"
   ]
  },
  {
   "cell_type": "markdown",
   "metadata": {},
   "source": [
    "<h2>Visualizing Credit history information</h2>"
   ]
  },
  {
   "cell_type": "code",
   "execution_count": 25,
   "metadata": {},
   "outputs": [
    {
     "data": {
      "image/png": "[encoded data removed]",
      "text/plain": [
       "<Figure size 432x288 with 1 Axes>"
      ]
     },
     "metadata": {
      "needs_background": "light"
     },
     "output_type": "display_data"
    }
   ],
   "source": [
    "credit_history = Counter(dataset['Credit_History'])\n",
    "names = [str(x) for x in credit_history.keys()]\n",
    "plt.bar(names, credit_history.values())\n",
    "plt.title('Credit History Chart')\n",
    "plt.ylabel('# of applicants')\n",
    "plt.show()"
   ]
  },
  {
   "cell_type": "markdown",
   "metadata": {},
   "source": [
    "<h2>Visualizing Property type information</h2>"
   ]
  },
  {
   "cell_type": "code",
   "execution_count": 26,
   "metadata": {},
   "outputs": [
    {
     "data": {
      "image/png": "[encoded data removed]",
      "text/plain": [
       "<Figure size 432x288 with 1 Axes>"
      ]
     },
     "metadata": {
      "needs_background": "light"
     },
     "output_type": "display_data"
    }
   ],
   "source": [
    "prop_area = Counter(dataset['Property_Area'])\n",
    "plt.bar(prop_area.keys(), prop_area.values())\n",
    "plt.title('Property Area Chart')\n",
    "plt.ylabel('# of applicants')\n",
    "plt.show()"
   ]
  },
  {
   "cell_type": "markdown",
   "metadata": {},
   "source": [
    "<h2>Visualizing Loan status information</h2>"
   ]
  },
  {
   "cell_type": "code",
   "execution_count": 27,
   "metadata": {},
   "outputs": [
    {
     "data": {
      "image/png": "[encoded data removed]",
      "text/plain": [
       "<Figure size 432x288 with 1 Axes>"
      ]
     },
     "metadata": {
      "needs_background": "light"
     },
     "output_type": "display_data"
    }
   ],
   "source": [
    "loan_grant_data = Counter(dataset['Loan_Status'])\n",
    "plt.bar(loan_grant_data.keys(), loan_grant_data.values())\n",
    "plt.title('Loan Status chart')\n",
    "plt.ylabel('# of applicants')\n",
    "plt.show()"
   ]
  },
  {
   "cell_type": "markdown",
   "metadata": {},
   "source": [
    "<h2>Cleaning the test dataset</h2>\n",
    "<p>After performing cleaning in <b>training set</b>, we still have to clean the <b>testing set</b> as it too contains NaN values.</p>"
   ]
  },
  {
   "cell_type": "code",
   "execution_count": 28,
   "metadata": {},
   "outputs": [],
   "source": [
    "test_dataset['Gender'].fillna('Male', inplace=True)\n",
    "test_dataset['Married'].fillna('Yes', inplace=True)\n",
    "test_dataset['Dependents'].fillna('0', inplace=True)\n",
    "test_dataset['Self_Employed'].fillna('No', inplace=True)\n",
    "test_dataset['LoanAmount'].fillna(test_dataset['LoanAmount'].mean(), inplace=True)\n",
    "test_dataset['Loan_Amount_Term'].fillna(test_dataset['Loan_Amount_Term'].mean(), inplace=True)\n",
    "test_dataset['Credit_History'].fillna(1.0, inplace=True)"
   ]
  },
  {
   "cell_type": "markdown",
   "metadata": {},
   "source": [
    "<h2>Label Encoding the datasets</h2>\n",
    "<p>Before starting using the machine learning algorithms, we first require the dataset values to be encoded in numeric values. i.e 'String' values cannot work.</p>\n",
    "<p>Firstly, we encode the 'Binary' column values as follows :-</p>\n",
    "<ol>\n",
    "    <li>Gender : 1 if 'Male' else 0</li>\n",
    "    <li>Married : 1 if 'Yes' else 0</li>\n",
    "    <li>Education : 1 if 'Graduate' else 0</li>\n",
    "    <li>Self_Employed : 1 if 'Yes' else 0</li>\n",
    "    <li>Credit_History : 1 if 1.0 else 0</li>\n",
    "    <li>Loan_Status : 1 if 'Y' else 0</li>\n",
    "</ol>"
   ]
  },
  {
   "cell_type": "code",
   "execution_count": 29,
   "metadata": {},
   "outputs": [],
   "source": [
    "dataset['Gender'] = np.where(dataset['Gender'] == 'Male', 1, 0)\n",
    "dataset['Married'] = np.where(dataset['Married'] == 'Yes', 1, 0)\n",
    "dataset['Education'] = np.where(dataset['Education'] == 'Graduate', 1, 0)\n",
    "dataset['Self_Employed'] = np.where(dataset['Self_Employed'] == 'Yes', 1, 0)\n",
    "dataset['Credit_History'] = np.where(dataset['Credit_History'] == 1.0, 1, 0)\n",
    "dataset['Loan_Status'] = np.where(dataset['Loan_Status'] == 'Y', 1, 0)\n",
    "\n",
    "test_dataset['Gender'] = np.where(test_dataset['Gender'] == 'Male', 1, 0)\n",
    "test_dataset['Married'] = np.where(test_dataset['Married'] == 'Yes', 1, 0)\n",
    "test_dataset['Education'] = np.where(test_dataset['Education'] == 'Graduate', 1, 0)\n",
    "test_dataset['Self_Employed'] = np.where(test_dataset['Self_Employed'] == 'Yes', 1, 0)\n",
    "test_dataset['Credit_History'] = np.where(test_dataset['Credit_History'] == 1.0, 1, 0)"
   ]
  },
  {
   "cell_type": "markdown",
   "metadata": {},
   "source": [
    "<p>Secondly, we use a combination of Pandas' dummies and NumPy's argmax functions which help us encode the Multi-class columns and also, fetch the index of rows wherever the value is 1</p>"
   ]
  },
  {
   "cell_type": "code",
   "execution_count": 30,
   "metadata": {},
   "outputs": [],
   "source": [
    "dataset['Dependents'] = np.argmax(pd.get_dummies(dataset['Dependents']).values, axis=1)\n",
    "dataset['Property_Area'] = np.argmax(pd.get_dummies(dataset['Property_Area']).values, axis=1)\n",
    "\n",
    "test_dataset['Dependents'] = np.argmax(pd.get_dummies(test_dataset['Dependents']).values, axis=1)\n",
    "test_dataset['Property_Area'] = np.argmax(pd.get_dummies(test_dataset['Property_Area']).values, axis=1)"
   ]
  },
  {
   "cell_type": "markdown",
   "metadata": {},
   "source": [
    "<h2>Mean Normalization</h2>\n",
    "<p>We perform mean normalization on following columns :-</p>\n",
    "<ol>\n",
    "    <li>ApplicantIncome</li>\n",
    "    <li>LoanAmount</li>\n",
    "    <li>Loan_Amount_Term</li>\n",
    "</ol>\n",
    "<p>This is done so that gradient descent can work quickly and minimization is achieved faster</p>"
   ]
  },
  {
   "cell_type": "code",
   "execution_count": 31,
   "metadata": {},
   "outputs": [],
   "source": [
    "dataset['ApplicantIncome'] = (dataset['ApplicantIncome'] - dataset['ApplicantIncome'].mean()) / dataset['ApplicantIncome'].std()\n",
    "dataset['LoanAmount'] = (dataset['LoanAmount'] - dataset['LoanAmount'].mean()) / dataset['LoanAmount'].std()\n",
    "dataset['Loan_Amount_Term'] = (dataset['Loan_Amount_Term'] - dataset['Loan_Amount_Term'].mean()) / dataset['Loan_Amount_Term'].std()\n",
    "\n",
    "test_dataset['ApplicantIncome'] = (test_dataset['ApplicantIncome'] - test_dataset['ApplicantIncome'].mean()) / test_dataset['ApplicantIncome'].std()\n",
    "test_dataset['LoanAmount'] = (test_dataset['LoanAmount'] - test_dataset['LoanAmount'].mean()) / test_dataset['LoanAmount'].std()\n",
    "test_dataset['Loan_Amount_Term'] = (test_dataset['Loan_Amount_Term'] - test_dataset['Loan_Amount_Term'].mean()) / test_dataset['Loan_Amount_Term'].std()"
   ]
  },
  {
   "cell_type": "markdown",
   "metadata": {},
   "source": [
    "<h2>Removing unnessary columns from the dataset</h2>\n",
    "<p>There are columns which are not relevant in our prediction problem. So, we just drop these columns from the dataset</p>"
   ]
  },
  {
   "cell_type": "code",
   "execution_count": 32,
   "metadata": {},
   "outputs": [
    {
     "name": "stdout",
     "output_type": "stream",
     "text": [
      "Training set features shape :  (614, 10)\n",
      "Training set labels shape :  (614,)\n",
      "Testing set features shape :  (367, 10)\n"
     ]
    }
   ],
   "source": [
    "labels = dataset['Loan_Status'].values\n",
    "features = dataset.drop(['Loan_ID', 'CoapplicantIncome', 'Loan_Status'], axis=1).values\n",
    "print(\"Training set features shape : \", str(features.shape))\n",
    "print(\"Training set labels shape : \", str(labels.shape))\n",
    "\n",
    "test_features = test_dataset.drop(['Loan_ID', 'CoapplicantIncome'], axis=1).values\n",
    "print(\"Testing set features shape : \", str(test_features.shape))"
   ]
  },
  {
   "cell_type": "markdown",
   "metadata": {},
   "source": [
    "<h2>Train-dev split</h2>\n",
    "<p>As a common machine learning practice, it is recommended to split the dataset given for training in 70-30 ratio such that the 70% data is used to train the algorithm and the remaining 30% is used to evaluate the algorithm.</p>"
   ]
  },
  {
   "cell_type": "code",
   "execution_count": 33,
   "metadata": {},
   "outputs": [
    {
     "name": "stdout",
     "output_type": "stream",
     "text": [
      "(429, 10) (185, 10)\n",
      "(429,) (185,)\n"
     ]
    }
   ],
   "source": [
    "features_train, features_test, labels_train, labels_test = train_test_split(features, labels, test_size=0.3, random_state=0)\n",
    "print(features_train.shape, features_test.shape)\n",
    "print(labels_train.shape, labels_test.shape)"
   ]
  },
  {
   "cell_type": "markdown",
   "metadata": {},
   "source": [
    "<h2>Applying machine learning and deep learning algorithms</h2>\n",
    "<p>In this section, we will use various models, and check the accuracy scores for train set, dev set as well as the test set. These scores will be helpful in comparing models and identify which performs better</p>"
   ]
  },
  {
   "cell_type": "markdown",
   "metadata": {},
   "source": [
    "<h2>Logistic Regression Model</h2>"
   ]
  },
  {
   "cell_type": "code",
   "execution_count": 34,
   "metadata": {},
   "outputs": [
    {
     "name": "stdout",
     "output_type": "stream",
     "text": [
      "Logistic Regression Classifier :-\n",
      "**************************************************\n",
      "Training set accuracy :  80.1864801864802\n",
      "Dev set accuracy :  82.70270270270271\n",
      "Test set accuracy :  83.92370572207084\n"
     ]
    }
   ],
   "source": [
    "from sklearn.linear_model import LogisticRegression\n",
    "clf1 = LogisticRegression(random_state=0, solver='lbfgs')\n",
    "clf1.fit(features_train, labels_train)\n",
    "print(\"Logistic Regression Classifier :-\")\n",
    "print(\"*\" * 50)\n",
    "print(\"Training set accuracy : \", clf1.score(features_train, labels_train) * 100)\n",
    "print(\"Dev set accuracy : \", clf1.score(features_test, labels_test) * 100)\n",
    "clf1_answers = clf1.predict(test_features)\n",
    "print(\"Test set accuracy : \", ((clf1_answers == 1).sum() / len(clf1_answers))  * 100)"
   ]
  },
  {
   "cell_type": "markdown",
   "metadata": {},
   "source": [
    "<h2>Support Vector Machine Model</h2>"
   ]
  },
  {
   "cell_type": "code",
   "execution_count": 35,
   "metadata": {},
   "outputs": [
    {
     "name": "stdout",
     "output_type": "stream",
     "text": [
      "SVM Classifier :-\n",
      "**************************************************\n",
      "Training set accuracy :  80.88578088578089\n",
      "Dev set accuracy :  82.70270270270271\n",
      "Test set accuracy :  83.92370572207084\n"
     ]
    }
   ],
   "source": [
    "from sklearn import svm\n",
    "clf2 = svm.SVC(gamma='scale')\n",
    "clf2.fit(features_train, labels_train)\n",
    "print(\"SVM Classifier :-\")\n",
    "print(\"*\" * 50)\n",
    "print(\"Training set accuracy : \", clf2.score(features_train, labels_train) * 100)\n",
    "print(\"Dev set accuracy : \", clf2.score(features_test, labels_test) * 100)\n",
    "clf2_answers = clf2.predict(test_features)\n",
    "print(\"Test set accuracy : \", ((clf2_answers == 1).sum() / len(clf2_answers))  * 100)"
   ]
  },
  {
   "cell_type": "markdown",
   "metadata": {},
   "source": [
    "<h2>Naive Bayes Model</h2>"
   ]
  },
  {
   "cell_type": "code",
   "execution_count": 36,
   "metadata": {},
   "outputs": [
    {
     "name": "stdout",
     "output_type": "stream",
     "text": [
      "Naive Bayes Classifier :-\n",
      "**************************************************\n",
      "Training set accuracy :  79.72027972027972\n",
      "Dev set accuracy :  82.16216216216216\n",
      "Test set accuracy :  83.37874659400545\n"
     ]
    }
   ],
   "source": [
    "from sklearn.naive_bayes import GaussianNB\n",
    "clf3 = GaussianNB()\n",
    "clf3.fit(features_train, labels_train)\n",
    "print(\"Naive Bayes Classifier :-\")\n",
    "print(\"*\" * 50)\n",
    "print(\"Training set accuracy : \", clf3.score(features_train, labels_train) * 100)\n",
    "print(\"Dev set accuracy : \", clf3.score(features_test, labels_test) * 100)\n",
    "clf3_answers = clf3.predict(test_features)\n",
    "print(\"Test set accuracy : \", ((clf3_answers == 1).sum() / len(clf3_answers))  * 100)"
   ]
  },
  {
   "cell_type": "markdown",
   "metadata": {},
   "source": [
    "<h2>Decision Tree Model</h2>"
   ]
  },
  {
   "cell_type": "code",
   "execution_count": 37,
   "metadata": {},
   "outputs": [
    {
     "name": "stdout",
     "output_type": "stream",
     "text": [
      "Decision-Tree Classifier :-\n",
      "**************************************************\n",
      "Training set accuracy :  100.0\n",
      "Dev set accuracy :  74.5945945945946\n",
      "Test set accuracy :  63.21525885558583\n"
     ]
    }
   ],
   "source": [
    "from sklearn import tree\n",
    "clf4 = tree.DecisionTreeClassifier()\n",
    "clf4.fit(features_train, labels_train)\n",
    "print(\"Decision-Tree Classifier :-\")\n",
    "print(\"*\" * 50)\n",
    "print(\"Training set accuracy : \", clf4.score(features_train, labels_train) * 100)\n",
    "print(\"Dev set accuracy : \", clf4.score(features_test, labels_test) * 100)\n",
    "clf4_answers = clf4.predict(test_features)\n",
    "print(\"Test set accuracy : \", ((clf4_answers == 1).sum() / len(clf4_answers))  * 100)"
   ]
  },
  {
   "cell_type": "markdown",
   "metadata": {},
   "source": [
    "<h2>Deep Neural Network Model</h2>"
   ]
  },
  {
   "cell_type": "code",
   "execution_count": 38,
   "metadata": {},
   "outputs": [
    {
     "name": "stderr",
     "output_type": "stream",
     "text": [
      "Using TensorFlow backend.\n",
      "/Library/Frameworks/Python.framework/Versions/3.7/lib/python3.7/importlib/_bootstrap.py:219: RuntimeWarning: compiletime version 3.6 of module 'tensorflow.python.framework.fast_tensor_util' does not match runtime version 3.7\n",
      "  return f(*args, **kwds)\n"
     ]
    },
    {
     "name": "stdout",
     "output_type": "stream",
     "text": [
      "Epoch 1/100\n",
      "429/429 [==============================] - 0s 698us/step - loss: 0.7597 - acc: 0.3590\n",
      "Epoch 2/100\n",
      "429/429 [==============================] - 0s 6us/step - loss: 0.6355 - acc: 0.6643\n",
      "Epoch 3/100\n",
      "429/429 [==============================] - 0s 7us/step - loss: 0.6165 - acc: 0.6690\n",
      "Epoch 4/100\n",
      "429/429 [==============================] - 0s 6us/step - loss: 0.6041 - acc: 0.6713\n",
      "Epoch 5/100\n",
      "429/429 [==============================] - 0s 6us/step - loss: 0.5928 - acc: 0.6713\n",
      "Epoch 6/100\n",
      "429/429 [==============================] - 0s 5us/step - loss: 0.5831 - acc: 0.6713\n",
      "Epoch 7/100\n",
      "429/429 [==============================] - 0s 5us/step - loss: 0.5800 - acc: 0.7599\n",
      "Epoch 8/100\n",
      "429/429 [==============================] - 0s 6us/step - loss: 0.5841 - acc: 0.6713\n",
      "Epoch 9/100\n",
      "429/429 [==============================] - 0s 7us/step - loss: 0.5628 - acc: 0.7879\n",
      "Epoch 10/100\n",
      "429/429 [==============================] - 0s 5us/step - loss: 0.5585 - acc: 0.7156\n",
      "Epoch 11/100\n",
      "429/429 [==============================] - 0s 5us/step - loss: 0.5496 - acc: 0.8042\n",
      "Epoch 12/100\n",
      "429/429 [==============================] - 0s 5us/step - loss: 0.5457 - acc: 0.7762\n",
      "Epoch 13/100\n",
      "429/429 [==============================] - 0s 5us/step - loss: 0.5376 - acc: 0.8042\n",
      "Epoch 14/100\n",
      "429/429 [==============================] - 0s 6us/step - loss: 0.5336 - acc: 0.8019\n",
      "Epoch 15/100\n",
      "429/429 [==============================] - 0s 5us/step - loss: 0.5275 - acc: 0.8042\n",
      "Epoch 16/100\n",
      "429/429 [==============================] - 0s 5us/step - loss: 0.5239 - acc: 0.8042\n",
      "Epoch 17/100\n",
      "429/429 [==============================] - 0s 5us/step - loss: 0.5191 - acc: 0.8042\n",
      "Epoch 18/100\n",
      "429/429 [==============================] - 0s 5us/step - loss: 0.5160 - acc: 0.8042\n",
      "Epoch 19/100\n",
      "429/429 [==============================] - 0s 6us/step - loss: 0.5122 - acc: 0.8042\n",
      "Epoch 20/100\n",
      "429/429 [==============================] - 0s 5us/step - loss: 0.5099 - acc: 0.8042\n",
      "Epoch 21/100\n",
      "429/429 [==============================] - 0s 6us/step - loss: 0.5066 - acc: 0.8042\n",
      "Epoch 22/100\n",
      "429/429 [==============================] - 0s 6us/step - loss: 0.5058 - acc: 0.8019\n",
      "Epoch 23/100\n",
      "429/429 [==============================] - 0s 6us/step - loss: 0.5025 - acc: 0.8065\n",
      "Epoch 24/100\n",
      "429/429 [==============================] - 0s 6us/step - loss: 0.5029 - acc: 0.8019\n",
      "Epoch 25/100\n",
      "429/429 [==============================] - 0s 5us/step - loss: 0.4976 - acc: 0.8089\n",
      "Epoch 26/100\n",
      "429/429 [==============================] - 0s 6us/step - loss: 0.4973 - acc: 0.8042\n",
      "Epoch 27/100\n",
      "429/429 [==============================] - 0s 6us/step - loss: 0.4940 - acc: 0.8089\n",
      "Epoch 28/100\n",
      "429/429 [==============================] - 0s 7us/step - loss: 0.4950 - acc: 0.8042\n",
      "Epoch 29/100\n",
      "429/429 [==============================] - 0s 6us/step - loss: 0.4908 - acc: 0.8089\n",
      "Epoch 30/100\n",
      "429/429 [==============================] - 0s 6us/step - loss: 0.4922 - acc: 0.8042\n",
      "Epoch 31/100\n",
      "429/429 [==============================] - 0s 6us/step - loss: 0.4878 - acc: 0.8089\n",
      "Epoch 32/100\n",
      "429/429 [==============================] - 0s 5us/step - loss: 0.4896 - acc: 0.8042\n",
      "Epoch 33/100\n",
      "429/429 [==============================] - 0s 5us/step - loss: 0.4851 - acc: 0.8065\n",
      "Epoch 34/100\n",
      "429/429 [==============================] - 0s 5us/step - loss: 0.4874 - acc: 0.8042\n",
      "Epoch 35/100\n",
      "429/429 [==============================] - 0s 6us/step - loss: 0.4825 - acc: 0.8065\n",
      "Epoch 36/100\n",
      "429/429 [==============================] - 0s 6us/step - loss: 0.4851 - acc: 0.8065\n",
      "Epoch 37/100\n",
      "429/429 [==============================] - 0s 6us/step - loss: 0.4802 - acc: 0.8065\n",
      "Epoch 38/100\n",
      "429/429 [==============================] - 0s 6us/step - loss: 0.4832 - acc: 0.8065\n",
      "Epoch 39/100\n",
      "429/429 [==============================] - 0s 6us/step - loss: 0.4777 - acc: 0.8065\n",
      "Epoch 40/100\n",
      "429/429 [==============================] - 0s 5us/step - loss: 0.4810 - acc: 0.8065\n",
      "Epoch 41/100\n",
      "429/429 [==============================] - 0s 6us/step - loss: 0.4755 - acc: 0.8042\n",
      "Epoch 42/100\n",
      "429/429 [==============================] - 0s 6us/step - loss: 0.4793 - acc: 0.8065\n",
      "Epoch 43/100\n",
      "429/429 [==============================] - 0s 6us/step - loss: 0.4731 - acc: 0.8042\n",
      "Epoch 44/100\n",
      "429/429 [==============================] - 0s 6us/step - loss: 0.4768 - acc: 0.8065\n",
      "Epoch 45/100\n",
      "429/429 [==============================] - 0s 5us/step - loss: 0.4711 - acc: 0.8042\n",
      "Epoch 46/100\n",
      "429/429 [==============================] - 0s 6us/step - loss: 0.4755 - acc: 0.8065\n",
      "Epoch 47/100\n",
      "429/429 [==============================] - 0s 6us/step - loss: 0.4686 - acc: 0.8065\n",
      "Epoch 48/100\n",
      "429/429 [==============================] - 0s 5us/step - loss: 0.4722 - acc: 0.8065\n",
      "Epoch 49/100\n",
      "429/429 [==============================] - 0s 5us/step - loss: 0.4669 - acc: 0.8065\n",
      "Epoch 50/100\n",
      "429/429 [==============================] - 0s 5us/step - loss: 0.4720 - acc: 0.8065\n",
      "Epoch 51/100\n",
      "429/429 [==============================] - 0s 7us/step - loss: 0.4640 - acc: 0.8089\n",
      "Epoch 52/100\n",
      "429/429 [==============================] - 0s 5us/step - loss: 0.4669 - acc: 0.8065\n",
      "Epoch 53/100\n",
      "429/429 [==============================] - 0s 5us/step - loss: 0.4631 - acc: 0.8089\n",
      "Epoch 54/100\n",
      "429/429 [==============================] - 0s 5us/step - loss: 0.4696 - acc: 0.8065\n",
      "Epoch 55/100\n",
      "429/429 [==============================] - 0s 6us/step - loss: 0.4593 - acc: 0.8112\n",
      "Epoch 56/100\n",
      "429/429 [==============================] - 0s 6us/step - loss: 0.4606 - acc: 0.8089\n",
      "Epoch 57/100\n",
      "429/429 [==============================] - 0s 6us/step - loss: 0.4594 - acc: 0.8135\n",
      "Epoch 58/100\n",
      "429/429 [==============================] - 0s 6us/step - loss: 0.4676 - acc: 0.8089\n",
      "Epoch 59/100\n",
      "429/429 [==============================] - 0s 6us/step - loss: 0.4549 - acc: 0.8135\n",
      "Epoch 60/100\n",
      "429/429 [==============================] - 0s 5us/step - loss: 0.4550 - acc: 0.8089\n",
      "Epoch 61/100\n",
      "429/429 [==============================] - 0s 6us/step - loss: 0.4548 - acc: 0.8205\n",
      "Epoch 62/100\n",
      "429/429 [==============================] - 0s 6us/step - loss: 0.4632 - acc: 0.8089\n",
      "Epoch 63/100\n",
      "429/429 [==============================] - 0s 5us/step - loss: 0.4514 - acc: 0.8159\n",
      "Epoch 64/100\n",
      "429/429 [==============================] - 0s 5us/step - loss: 0.4529 - acc: 0.8089\n",
      "Epoch 65/100\n",
      "429/429 [==============================] - 0s 6us/step - loss: 0.4515 - acc: 0.8182\n",
      "Epoch 66/100\n",
      "429/429 [==============================] - 0s 6us/step - loss: 0.4597 - acc: 0.8112\n",
      "Epoch 67/100\n",
      "429/429 [==============================] - 0s 6us/step - loss: 0.4472 - acc: 0.8182\n",
      "Epoch 68/100\n",
      "429/429 [==============================] - 0s 6us/step - loss: 0.4479 - acc: 0.8112\n",
      "Epoch 69/100\n",
      "429/429 [==============================] - 0s 6us/step - loss: 0.4472 - acc: 0.8205\n",
      "Epoch 70/100\n",
      "429/429 [==============================] - 0s 6us/step - loss: 0.4552 - acc: 0.8135\n",
      "Epoch 71/100\n",
      "429/429 [==============================] - 0s 5us/step - loss: 0.4439 - acc: 0.8252\n",
      "Epoch 72/100\n",
      "429/429 [==============================] - 0s 6us/step - loss: 0.4458 - acc: 0.8135\n",
      "Epoch 73/100\n",
      "429/429 [==============================] - 0s 6us/step - loss: 0.4437 - acc: 0.8228\n",
      "Epoch 74/100\n",
      "429/429 [==============================] - 0s 5us/step - loss: 0.4512 - acc: 0.8159\n",
      "Epoch 75/100\n",
      "429/429 [==============================] - 0s 6us/step - loss: 0.4401 - acc: 0.8228\n",
      "Epoch 76/100\n",
      "429/429 [==============================] - 0s 6us/step - loss: 0.4420 - acc: 0.8135\n",
      "Epoch 77/100\n",
      "429/429 [==============================] - 0s 6us/step - loss: 0.4399 - acc: 0.8228\n",
      "Epoch 78/100\n",
      "429/429 [==============================] - 0s 5us/step - loss: 0.4469 - acc: 0.8135\n",
      "Epoch 79/100\n",
      "429/429 [==============================] - 0s 6us/step - loss: 0.4368 - acc: 0.8298\n",
      "Epoch 80/100\n",
      "429/429 [==============================] - 0s 6us/step - loss: 0.4393 - acc: 0.8135\n",
      "Epoch 81/100\n",
      "429/429 [==============================] - 0s 6us/step - loss: 0.4363 - acc: 0.8252\n",
      "Epoch 82/100\n",
      "429/429 [==============================] - 0s 5us/step - loss: 0.4428 - acc: 0.8135\n",
      "Epoch 83/100\n",
      "429/429 [==============================] - 0s 6us/step - loss: 0.4335 - acc: 0.8252\n",
      "Epoch 84/100\n",
      "429/429 [==============================] - 0s 6us/step - loss: 0.4365 - acc: 0.8159\n",
      "Epoch 85/100\n",
      "429/429 [==============================] - 0s 6us/step - loss: 0.4328 - acc: 0.8228\n"
     ]
    },
    {
     "name": "stdout",
     "output_type": "stream",
     "text": [
      "Epoch 86/100\n",
      "429/429 [==============================] - 0s 7us/step - loss: 0.4388 - acc: 0.8135\n",
      "Epoch 87/100\n",
      "429/429 [==============================] - 0s 5us/step - loss: 0.4303 - acc: 0.8252\n",
      "Epoch 88/100\n",
      "429/429 [==============================] - 0s 5us/step - loss: 0.4337 - acc: 0.8159\n",
      "Epoch 89/100\n",
      "429/429 [==============================] - 0s 6us/step - loss: 0.4293 - acc: 0.8275\n",
      "Epoch 90/100\n",
      "429/429 [==============================] - 0s 7us/step - loss: 0.4348 - acc: 0.8135\n",
      "Epoch 91/100\n",
      "429/429 [==============================] - 0s 8us/step - loss: 0.4272 - acc: 0.8275\n",
      "Epoch 92/100\n",
      "429/429 [==============================] - 0s 6us/step - loss: 0.4309 - acc: 0.8159\n",
      "Epoch 93/100\n",
      "429/429 [==============================] - 0s 5us/step - loss: 0.4260 - acc: 0.8298\n",
      "Epoch 94/100\n",
      "429/429 [==============================] - 0s 7us/step - loss: 0.4310 - acc: 0.8159\n",
      "Epoch 95/100\n",
      "429/429 [==============================] - 0s 7us/step - loss: 0.4241 - acc: 0.8298\n",
      "Epoch 96/100\n",
      "429/429 [==============================] - 0s 6us/step - loss: 0.4281 - acc: 0.8159\n",
      "Epoch 97/100\n",
      "429/429 [==============================] - 0s 5us/step - loss: 0.4227 - acc: 0.8345\n",
      "Epoch 98/100\n",
      "429/429 [==============================] - 0s 7us/step - loss: 0.4273 - acc: 0.8205\n",
      "Epoch 99/100\n",
      "429/429 [==============================] - 0s 7us/step - loss: 0.4209 - acc: 0.8322\n",
      "Epoch 100/100\n",
      "429/429 [==============================] - 0s 6us/step - loss: 0.4249 - acc: 0.8228\n",
      "\n",
      "\n",
      "\n",
      "\n",
      "5-Layer Neural Network :-\n",
      "**************************************************\n",
      "429/429 [==============================] - 0s 97us/step\n",
      "Training set accuracy :  83.21678042411804\n",
      "185/185 [==============================] - 0s 6us/step\n",
      "Dev set accuracy :  77.29730010032654\n",
      "Test set accuracy :  59.945504087193456\n"
     ]
    }
   ],
   "source": [
    "from keras.models import Sequential\n",
    "from keras.layers import Dense\n",
    "m, n = features_train.shape[0], features_train.shape[1]\n",
    "clf5 = Sequential()\n",
    "clf5.add(Dense(m, input_shape=(n,)))\n",
    "for _ in range(5):\n",
    "    clf5.add(Dense(n+1, activation='tanh'))\n",
    "clf5.add(Dense(1, activation='sigmoid'))\n",
    "clf5.compile(optimizer='rmsprop', loss='binary_crossentropy', metrics=['accuracy'])\n",
    "clf5_history = clf5.fit(features_train, labels_train, epochs=100, batch_size=m)\n",
    "print(\"\\n\\n\\n\")\n",
    "print(\"5-Layer Neural Network :-\")\n",
    "print(\"*\" * 50)\n",
    "print(\"Training set accuracy : \", clf5.evaluate(features_train, labels_train, batch_size=features_train.shape[0])[1] * 100)\n",
    "print(\"Dev set accuracy : \", clf5.evaluate(features_test, labels_test, batch_size=features_test.shape[0])[1] * 100)\n",
    "clf5_answers = clf5.predict(test_features, batch_size = test_features.shape[0])\n",
    "print(\"Test set accuracy : \", ((clf5_answers > 0.7).sum() / len(clf5_answers))  * 100)"
   ]
  }
 ],
 "metadata": {
  "kernelspec": {
   "display_name": "Python 3",
   "language": "python",
   "name": "python3"
  },
  "language_info": {
   "codemirror_mode": {
    "name": "ipython",
    "version": 3
   },
   "file_extension": ".py",
   "mimetype": "text/x-python",
   "name": "python",
   "nbconvert_exporter": "python",
   "pygments_lexer": "ipython3",
   "version": "3.7.1"
  }
 },
 "nbformat": 4,
 "nbformat_minor": 2
}
